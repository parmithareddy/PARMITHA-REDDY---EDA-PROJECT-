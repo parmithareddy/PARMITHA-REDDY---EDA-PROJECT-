{
  "nbformat": 4,
  "nbformat_minor": 0,
  "metadata": {
    "colab": {
      "provenance": [],
      "authorship_tag": "ABX9TyMazdHVoP7WvQmq1jQybbyk",
      "include_colab_link": true
    },
    "kernelspec": {
      "name": "python3",
      "display_name": "Python 3"
    },
    "language_info": {
      "name": "python"
    }
  },
  "cells": [
    {
      "cell_type": "markdown",
      "metadata": {
        "id": "view-in-github",
        "colab_type": "text"
      },
      "source": [
        "<a href=\"https://colab.research.google.com/github/parmithareddy/PARMITHA-REDDY---EDA-PROJECT-/blob/main/PARMITHA_REDDY_EDA_PROJECT_.ipynb\" target=\"_parent\"><img src=\"https://colab.research.google.com/assets/colab-badge.svg\" alt=\"Open In Colab\"/></a>"
      ]
    },
    {
      "cell_type": "code",
      "execution_count": 2,
      "metadata": {
        "id": "SqpMNLpoWaxC",
        "colab": {
          "base_uri": "https://localhost:8080/"
        },
        "outputId": "e113c2da-38fa-4e75-bd9f-5edf73a97e38"
      },
      "outputs": [
        {
          "output_type": "stream",
          "name": "stdout",
          "text": [
            "parmitha reddy - eda project \n"
          ]
        }
      ],
      "source": [
        "\n",
        "\n",
        " print('parmitha reddy - eda project ')\n"
      ]
    }
  ]
}