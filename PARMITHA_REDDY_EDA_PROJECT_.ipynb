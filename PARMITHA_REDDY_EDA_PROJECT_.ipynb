{
  "nbformat": 4,
  "nbformat_minor": 0,
  "metadata": {
    "colab": {
      "provenance": [],
      "authorship_tag": "ABX9TyNeFrlWmhFg0/O+pGzjr7x3",
      "include_colab_link": true
    },
    "kernelspec": {
      "name": "python3",
      "display_name": "Python 3"
    },
    "language_info": {
      "name": "python"
    }
  },
  "cells": [
    {
      "cell_type": "markdown",
      "metadata": {
        "id": "view-in-github",
        "colab_type": "text"
      },
      "source": [
        "<a href=\"https://colab.research.google.com/github/parmithareddy/PARMITHA-REDDY---EDA-PROJECT-/blob/main/PARMITHA_REDDY_EDA_PROJECT_.ipynb\" target=\"_parent\"><img src=\"https://colab.research.google.com/assets/colab-badge.svg\" alt=\"Open In Colab\"/></a>"
      ]
    },
    {
      "cell_type": "code",
      "execution_count": null,
      "metadata": {
        "id": "SqpMNLpoWaxC"
      },
      "outputs": [],
      "source": [
        "string='i love python '\n",
        " name ='pyt'\n",
        "\n"
      ]
    }
  ]
}